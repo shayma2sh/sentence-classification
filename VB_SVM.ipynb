{
 "cells": [
  {
   "cell_type": "code",
   "execution_count": 4,
   "metadata": {},
   "outputs": [],
   "source": [
    "import numpy as np\n",
    "import io\n",
    "from sklearn.model_selection import train_test_split"
   ]
  },
  {
   "cell_type": "code",
   "execution_count": 5,
   "metadata": {},
   "outputs": [],
   "source": [
    "import matplotlib.pyplot as plt\n",
    "import itertools\n",
    "def plot_confusion_matrix(cm, classes,\n",
    "                          normalize=False,\n",
    "                          title='Confusion matrix',\n",
    "                          cmap=plt.cm.Blues):\n",
    "    \"\"\"\n",
    "    This function prints and plots the confusion matrix.\n",
    "    Normalization can be applied by setting `normalize=True`.\n",
    "    \"\"\"\n",
    "    if normalize:\n",
    "        cm = cm.astype('float') / cm.sum(axis=1)[:, np.newaxis]\n",
    "        print(\"Normalized confusion matrix\")\n",
    "    else:\n",
    "        print('Confusion matrix, without normalization')\n",
    "\n",
    "    print(cm)\n",
    "\n",
    "    plt.imshow(cm, interpolation='nearest', cmap=cmap)\n",
    "    plt.title(title)\n",
    "    plt.colorbar()\n",
    "    tick_marks = np.arange(len(classes))\n",
    "    plt.xticks(tick_marks, classes, rotation=45)\n",
    "    plt.yticks(tick_marks, classes)\n",
    "\n",
    "    fmt = '.2f' if normalize else 'd'\n",
    "    thresh = cm.max() / 2.\n",
    "    for i, j in itertools.product(range(cm.shape[0]), range(cm.shape[1])):\n",
    "        plt.text(j, i, format(cm[i, j], fmt),\n",
    "                 horizontalalignment=\"center\",\n",
    "                 color=\"white\" if cm[i, j] > thresh else \"black\")\n",
    "\n",
    "    plt.tight_layout()\n",
    "    plt.ylabel('True label')\n",
    "    plt.xlabel('Predicted label')"
   ]
  },
  {
   "cell_type": "markdown",
   "metadata": {},
   "source": [
    "# preprocessing\n"
   ]
  },
  {
   "cell_type": "code",
   "execution_count": 6,
   "metadata": {},
   "outputs": [
    {
     "name": "stdout",
     "output_type": "stream",
     "text": [
      "num of sentences  8124\n",
      "num of intents  8124\n",
      "{'greeting': 0, 'getService': 5, 'inqueryService': 1, 'quantityService': 6, 'placeService': 4, 'dateService': 2, 'beQuestion': 3}\n",
      "dict_keys(['greeting', 'getService', 'inqueryService', 'quantityService', 'placeService', 'dateService', 'beQuestion'])\n",
      "['so, how are you doing today? ', 'hi there.', 'hello.']\n",
      "['greeting', 'greeting', 'greeting']\n"
     ]
    }
   ],
   "source": [
    "import re\n",
    "\n",
    "def remove_sortcut(lis,sentence):\n",
    "    pattern = \"[A-Z][A-Z]+\"\n",
    "    match = re.search(pattern, sentence)\n",
    "    if match:\n",
    "        s=re.sub(pattern,'',sentence)\n",
    "        lis.append(s)\n",
    "    else:\n",
    "        lis.append(sentence)\n",
    "seed = 7\n",
    "np.random.seed(seed)\n",
    "\n",
    "sentence = []\n",
    "intents = []\n",
    "lengths = []\n",
    "f = io.open('myData.txt',encoding='utf-8')\n",
    "\n",
    "lines = f.readlines()\n",
    "for line in lines:\n",
    "    l = line.split('||')\n",
    "    k = l[:1]\n",
    "    j = l[1:]\n",
    "\n",
    "    for i in j:\n",
    "        ii = i.strip()\n",
    "        intents.append(ii)\n",
    "\n",
    "    for i in k:\n",
    "        remove_sortcut(sentence,i)\n",
    "        \n",
    "f.close()\n",
    "# convert to lowercase\n",
    "sentences=[item.lower() for item in sentence]  \n",
    "print('num of sentences ',len(sentences))\n",
    "print('num of intents ',len(intents))\n",
    "\n",
    "labels = []\n",
    "label = ['greeting','inqueryService', 'dateService', 'beQuestion', 'placeService', 'getService', 'quantityService']\n",
    "dictionary = dict(zip(label, range(len(label))))\n",
    "print(dictionary)\n",
    "for it in intents:\n",
    "    if it in dictionary.keys():\n",
    "        labels.append(dictionary.get(it))\n",
    "print(dictionary.keys())\n",
    "print(sentences[:3])\n",
    "print(intents[:3])"
   ]
  },
  {
   "cell_type": "markdown",
   "metadata": {},
   "source": [
    "# split data"
   ]
  },
  {
   "cell_type": "code",
   "execution_count": 7,
   "metadata": {},
   "outputs": [
    {
     "name": "stdout",
     "output_type": "stream",
     "text": [
      "5443 for train \n",
      "2681 for test \n",
      "['beQuestion', 'inqueryService', 'inqueryService']\n"
     ]
    }
   ],
   "source": [
    "random_state = 42\n",
    "X_train, X_test, y_train, y_test = train_test_split( sentences, intents, test_size=0.33, random_state=random_state,shuffle=True)\n",
    "print(len(X_train), \"for train \")\n",
    "print(len(X_test), \"for test \")\n",
    "print(y_test[:3])"
   ]
  },
  {
   "cell_type": "markdown",
   "metadata": {},
   "source": [
    "# features\n",
    "1. bag of words  : for our example. Briefly, we segment each text file into words (for English splitting by space), and count # of times each word occurs in each document and finally assign each word an integer id. Each unique word in our dictionary will correspond to a feature (descriptive feature).using CountVectorizer()\n",
    "\n",
    "2. TF - Term Frequencies : Just counting the number of words in each document has 1 issue: it will give more weightage to longer documents than shorter documents. To avoid this, we can use frequency (TF - Term Frequencies) i.e. #count(word) / #Total words, in each document. \n",
    "\n",
    "3. TF-IDF: Finally, we can even reduce the weightage of more common words like (the, is, an etc.) which occurs in all document. This is called as TF-IDF i.e Term Frequency times inverse document frequency. use TfidfTransformer()\n"
   ]
  },
  {
   "cell_type": "markdown",
   "metadata": {},
   "source": [
    "# Naive Bayes classifier"
   ]
  },
  {
   "cell_type": "code",
   "execution_count": 8,
   "metadata": {},
   "outputs": [],
   "source": [
    "from sklearn.pipeline import Pipeline\n",
    "from sklearn.feature_extraction.text import CountVectorizer\n",
    "from sklearn.feature_extraction.text import TfidfTransformer\n",
    "from sklearn.naive_bayes import MultinomialNB\n",
    "from sklearn import metrics\n",
    "from sklearn.metrics import confusion_matrix\n",
    "from sklearn.model_selection import GridSearchCV\n"
   ]
  },
  {
   "cell_type": "markdown",
   "metadata": {},
   "source": [
    "# Extracting features\n",
    "  with preprocessing : remove stopwords and  stemming \n",
    "  without remove stopwords and  stemming"
   ]
  },
  {
   "cell_type": "code",
   "execution_count": 9,
   "metadata": {},
   "outputs": [],
   "source": [
    "from nltk.stem.snowball import SnowballStemmer\n",
    "stemmer = SnowballStemmer(\"english\", ignore_stopwords=True)\n",
    "class StemmedCountVectorizer(CountVectorizer):\n",
    "    def build_analyzer(self):\n",
    "        analyzer = super(StemmedCountVectorizer, self).build_analyzer()\n",
    "        return lambda doc: ([stemmer.stem(w) for w in analyzer(doc)])\n",
    "    \n",
    "    \n",
    "    \n",
    "    \n",
    "bayes_clf = Pipeline([('vect', CountVectorizer()),\n",
    "                      ('tfidf', TfidfTransformer()),\n",
    "                      ('clf', MultinomialNB())\n",
    "                      ])\n",
    "\n",
    "#remove stopword and stemming\n",
    "stemmed_count_vect = StemmedCountVectorizer(stop_words='english')\n",
    "\n",
    "bayes_clf_stop_stem = Pipeline([('vect', stemmed_count_vect), ('tfidf', TfidfTransformer()), \n",
    "                             ('mnb', MultinomialNB(fit_prior=True))])\n",
    "\n",
    "\n"
   ]
  },
  {
   "cell_type": "markdown",
   "metadata": {},
   "source": [
    "# fitting"
   ]
  },
  {
   "cell_type": "code",
   "execution_count": 10,
   "metadata": {},
   "outputs": [
    {
     "name": "stdout",
     "output_type": "stream",
     "text": [
      "Naive Bayes  0.665423\n",
      "Naive Bayes error : 0.33 \n",
      "Naive Bayes with remove stopwords and stemming 0.535621\n",
      "Naive Bayes error with stem and stop : 0.46 \n"
     ]
    }
   ],
   "source": [
    "bayes_clf.fit(X_train, y_train)\n",
    "predicted = bayes_clf.predict(X_test)\n",
    "print('Naive Bayes  %f' %(np.mean(predicted == y_test)))\n",
    "print('Naive Bayes error : {:4.2f} '.format(1 - metrics.accuracy_score(y_test, predicted)))\n",
    "\n",
    "bayes_clf_stop_stem.fit(X_train, y_train)\n",
    "predicted_stop_stem = bayes_clf_stop_stem.predict(X_test)\n",
    "print('Naive Bayes with remove stopwords and stemming %f' %(np.mean(predicted_stop_stem == y_test)))\n",
    "print('Naive Bayes error with stem and stop : {:4.2f} '.format(1 - metrics.accuracy_score(y_test, predicted_stop_stem)))\n",
    "\n",
    "\n"
   ]
  },
  {
   "cell_type": "markdown",
   "metadata": {},
   "source": [
    "# Grid search"
   ]
  },
  {
   "cell_type": "code",
   "execution_count": 12,
   "metadata": {},
   "outputs": [
    {
     "name": "stdout",
     "output_type": "stream",
     "text": [
      "0.6880396839977954\n",
      "{'tfidf__use_idf': False, 'vect__ngram_range': (1, 2)}\n"
     ]
    }
   ],
   "source": [
    "parameters_NB = {'vect__ngram_range': [(1, 1), (1, 2)], 'tfidf__use_idf': (True, False)}\n",
    "gs_clf_NB = GridSearchCV(bayes_clf, parameters_NB, n_jobs=-1)\n",
    "gs_clf_NB = gs_clf_NB.fit(X_train, y_train)\n",
    "print(gs_clf_NB.best_score_)\n",
    "print(gs_clf_NB.best_params_ )"
   ]
  },
  {
   "cell_type": "code",
   "execution_count": 13,
   "metadata": {},
   "outputs": [
    {
     "name": "stdout",
     "output_type": "stream",
     "text": [
      "Naive Bayes  0.707199\n",
      "Naive Bayes error : 0.29 \n"
     ]
    }
   ],
   "source": [
    "from sklearn.linear_model import SGDClassifier\n",
    "bayes_clf = Pipeline([('vect_', CountVectorizer(ngram_range=(1,2))),\n",
    "    ('tfidf', TfidfTransformer(use_idf=False)),\n",
    "    ('mnb', MultinomialNB(fit_prior=True))\n",
    "  \n",
    "])\n",
    "\n",
    "bayes_clf.fit(X_train, y_train)\n",
    "predicted = bayes_clf.predict(X_test)\n",
    "print('Naive Bayes  %f' %(np.mean(predicted == y_test)))\n",
    "print('Naive Bayes error : {:4.2f} '.format(1 - metrics.accuracy_score(y_test, predicted)))"
   ]
  },
  {
   "cell_type": "code",
   "execution_count": 14,
   "metadata": {},
   "outputs": [
    {
     "name": "stderr",
     "output_type": "stream",
     "text": [
      "c:\\users\\shayma2\\appdata\\local\\programs\\python\\python35\\lib\\site-packages\\sklearn\\metrics\\classification.py:1135: UndefinedMetricWarning: Precision and F-score are ill-defined and being set to 0.0 in labels with no predicted samples.\n",
      "  'precision', 'predicted', average, warn_for)\n"
     ]
    },
    {
     "name": "stdout",
     "output_type": "stream",
     "text": [
      "                 precision    recall  f1-score   support\n",
      "\n",
      "     beQuestion       0.88      0.84      0.86       971\n",
      "    dateService       1.00      0.05      0.10       210\n",
      "     getService       0.00      0.00      0.00       211\n",
      "       greeting       0.00      0.00      0.00        23\n",
      " inqueryService       0.61      0.98      0.75      1089\n",
      "   placeService       1.00      0.02      0.05        82\n",
      "quantityService       0.00      0.00      0.00        95\n",
      "\n",
      "    avg / total       0.68      0.71      0.63      2681\n",
      "\n",
      "Confusion matrix, without normalization\n",
      "[[ 820    0    0    0  151    0    0]\n",
      " [  46   11    0    0  153    0    0]\n",
      " [   9    0    0    0  202    0    0]\n",
      " [   5    0    0    0   18    0    0]\n",
      " [  26    0    0    0 1063    0    0]\n",
      " [  11    0    0    0   69    2    0]\n",
      " [  10    0    0    0   85    0    0]]\n",
      "None\n"
     ]
    },
    {
     "data": {
      "image/png": "[encoded data removed]",
      "text/plain": [
       "<Figure size 432x288 with 2 Axes>"
      ]
     },
     "metadata": {},
     "output_type": "display_data"
    }
   ],
   "source": [
    "classes= ['beQuestion','dateService','getService','greeting','inqueryService','placeService','quantityService']\n",
    "print(metrics.classification_report(y_test, predicted))\n",
    "cm_svm = confusion_matrix(y_test, predicted)\n",
    "\n",
    "print(plot_confusion_matrix(cm_svm,classes=classes))"
   ]
  },
  {
   "cell_type": "markdown",
   "metadata": {},
   "source": [
    "# SVM\n"
   ]
  },
  {
   "cell_type": "code",
   "execution_count": 17,
   "metadata": {},
   "outputs": [],
   "source": [
    "from sklearn.linear_model import SGDClassifier\n",
    "from sklearn.externals import joblib\n",
    "\n"
   ]
  },
  {
   "cell_type": "markdown",
   "metadata": {},
   "source": [
    "# Extracting features _ svm"
   ]
  },
  {
   "cell_type": "code",
   "execution_count": 18,
   "metadata": {},
   "outputs": [],
   "source": [
    "svm_clf = Pipeline([('vect', CountVectorizer()),\n",
    "    ('tfidf', TfidfTransformer()),\n",
    "    ('clf', SGDClassifier(loss='hinge', penalty='l2', alpha=1e-3, max_iter=5, random_state=random_state)),\n",
    "])\n",
    "\n",
    "\n",
    "# with stemming and remove stopwords\n",
    "svm_clf_stop_stem = Pipeline([('vect', stemmed_count_vect),   ('tfidf', TfidfTransformer()),\n",
    "    ('clf', SGDClassifier(loss='hinge', penalty='l2', alpha=1e-3, max_iter=5, random_state=random_state)),\n",
    "])\n",
    "\n"
   ]
  },
  {
   "cell_type": "markdown",
   "metadata": {},
   "source": [
    "# fitting"
   ]
  },
  {
   "cell_type": "code",
   "execution_count": 19,
   "metadata": {},
   "outputs": [
    {
     "name": "stdout",
     "output_type": "stream",
     "text": [
      "SVM correct prediction: 0.86\n",
      "SVM correct prediction with (stemming ,stopwords) : 0.57\n"
     ]
    }
   ],
   "source": [
    "svm = svm_clf.fit(X_train, y_train)\n",
    "predicted = svm_clf.predict(X_test)\n",
    "print('SVM correct prediction: {:4.2f}'.format(np.mean(predicted == y_test)))\n",
    "\n",
    "\n",
    "\n",
    "#with remove stopword and stemming \n",
    "svm_stem_stop = svm_clf_stop_stem.fit(X_train, y_train)\n",
    "predicted_ss = svm_stem_stop.predict(X_test)\n",
    "print('SVM correct prediction with (stemming ,stopwords) : {:4.2f}'.format(np.mean(predicted_ss == y_test)))"
   ]
  },
  {
   "cell_type": "markdown",
   "metadata": {},
   "source": [
    "# Grid search"
   ]
  },
  {
   "cell_type": "code",
   "execution_count": 20,
   "metadata": {},
   "outputs": [
    {
     "name": "stdout",
     "output_type": "stream",
     "text": [
      "0.8623920632004409\n",
      "{'tfidf__use_idf': False, 'vect__ngram_range': (1, 2), 'clf__alpha': 0.001}\n"
     ]
    }
   ],
   "source": [
    "parameters_svm = {'vect__ngram_range': [(1, 1), (1, 2)], 'tfidf__use_idf': (True, False), 'clf__alpha': (1e-2, 1e-3)}\n",
    "gs_clf_svm = GridSearchCV(svm_clf, parameters_svm, n_jobs=-1)\n",
    "gs_clf_svm = gs_clf_svm.fit(X_train, y_train)\n",
    "print(gs_clf_svm.best_score_)\n",
    "print(gs_clf_svm.best_params_ )"
   ]
  },
  {
   "cell_type": "markdown",
   "metadata": {},
   "source": [
    "# final model"
   ]
  },
  {
   "cell_type": "code",
   "execution_count": 21,
   "metadata": {},
   "outputs": [
    {
     "name": "stdout",
     "output_type": "stream",
     "text": [
      "SVM accuracy: 0.87\n",
      "SVM error : 0.13 \n"
     ]
    }
   ],
   "source": [
    "svm_clf = Pipeline([('vect_', CountVectorizer(ngram_range=(1,2))),\n",
    "    ('tfidf', TfidfTransformer(use_idf=False)),\n",
    "    ('clf', SGDClassifier(loss='hinge', penalty='l2', alpha=1e-3, max_iter=9, random_state=random_state)),\n",
    "])\n",
    "\n",
    "svm = svm_clf.fit(X_train, y_train)\n",
    "predicted = svm_clf.predict(X_test)\n",
    "print('SVM accuracy: {:4.2f}'.format(np.mean(predicted == y_test)))\n",
    "# error\n",
    "print('SVM error : {:4.2f} '.format(1 - metrics.accuracy_score(y_test, predicted)))\n"
   ]
  },
  {
   "cell_type": "code",
   "execution_count": 23,
   "metadata": {},
   "outputs": [
    {
     "name": "stderr",
     "output_type": "stream",
     "text": [
      "c:\\users\\shayma2\\appdata\\local\\programs\\python\\python35\\lib\\site-packages\\sklearn\\metrics\\classification.py:1135: UndefinedMetricWarning: Precision and F-score are ill-defined and being set to 0.0 in labels with no predicted samples.\n",
      "  'precision', 'predicted', average, warn_for)\n"
     ]
    },
    {
     "name": "stdout",
     "output_type": "stream",
     "text": [
      "                 precision    recall  f1-score   support\n",
      "\n",
      "     beQuestion       0.92      0.97      0.94       971\n",
      "    dateService       0.88      0.82      0.85       210\n",
      "     getService       0.66      0.39      0.49       211\n",
      "       greeting       0.00      0.00      0.00        23\n",
      " inqueryService       0.85      0.91      0.88      1089\n",
      "   placeService       0.89      0.99      0.94        82\n",
      "quantityService       0.88      0.63      0.74        95\n",
      "\n",
      "    avg / total       0.85      0.87      0.86      2681\n",
      "\n",
      "Confusion matrix, without normalization\n",
      "[[938  12   1   0  17   1   2]\n",
      " [  2 173   0   0  28   2   5]\n",
      " [ 21   1  83   0 104   1   1]\n",
      " [ 19   0   0   0   4   0   0]\n",
      " [ 41   6  41   0 995   6   0]\n",
      " [  1   0   0   0   0  81   0]\n",
      " [  3   4   0   0  28   0  60]]\n",
      "None\n"
     ]
    },
    {
     "data": {
      "image/png": "[encoded data removed]",
      "text/plain": [
       "<Figure size 432x288 with 2 Axes>"
      ]
     },
     "metadata": {},
     "output_type": "display_data"
    }
   ],
   "source": [
    "classes= ['beQuestion','dateService','getService','greeting','inqueryService','placeService','quantityService']\n",
    "print(metrics.classification_report(y_test, predicted))\n",
    "cm_svm = confusion_matrix(y_test, predicted)\n",
    "\n",
    "print(plot_confusion_matrix(cm_svm,classes=classes))"
   ]
  },
  {
   "cell_type": "code",
   "execution_count": 41,
   "metadata": {},
   "outputs": [],
   "source": [
    "#http://blog.chapagain.com.np/python-graph-plotting-with-matplotlib-line-graph/\n",
    "# http://nadbordrozd.github.io/blog/2016/05/20/text-classification-with-word2vec/ "
   ]
  },
  {
   "cell_type": "code",
   "execution_count": null,
   "metadata": {},
   "outputs": [],
   "source": []
  }
 ],
 "metadata": {
  "kernelspec": {
   "display_name": "Python 3",
   "language": "python",
   "name": "python3"
  },
  "language_info": {
   "codemirror_mode": {
    "name": "ipython",
    "version": 3
   },
   "file_extension": ".py",
   "mimetype": "text/x-python",
   "name": "python",
   "nbconvert_exporter": "python",
   "pygments_lexer": "ipython3",
   "version": "3.5.3"
  }
 },
 "nbformat": 4,
 "nbformat_minor": 2
}
